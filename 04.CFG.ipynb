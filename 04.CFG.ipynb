{
 "cells": [
  {
   "attachments": {},
   "cell_type": "markdown",
   "metadata": {},
   "source": [
    "# Формальные языки\n",
    "\n",
    "**Формальный язык** — множество конечных слов над конечным алфавитом $\\Sigma$. \n",
    "Пусть есть некоторое конечно множество символов $\\Sigma$, тогда множество $L \\in \\Sigma^*$ есть формальный язык. \n",
    "\n",
    "Над формальными языками можно определить операции:\n",
    "\n",
    "* $L_1 \\cap L_2$\n",
    "* $L_1 \\cup L_2$\n",
    "* $L_1 \\setminus L_2$\n",
    "* $L_1 \\cdot L_2 $ - новый язык, в котором ко всем возможным словам из $L_1$ присоеденены справа слова из $L_2$\n",
    "* $L^*$ - замыкание клини, $\\{\\epsilon\\} \\cup L \\cup (L \\cdot L) \\cup (L \\cdot L \\cdot L) \\cup \\cdots$\n",
    "\n",
    "**Иерархия Хомского** — классификация формальных языков и формальных грамматик, согласно которой они делятся на 4 типа по их условной сложности"
   ]
  },
  {
   "attachments": {},
   "cell_type": "markdown",
   "metadata": {},
   "source": [
    "**Контекстно-свободная грамматикой**  называется четверка $G = (V, \\Sigma, R, S)$, где\n",
    "\n",
    "- $V$  - конечное множество нетерминальных символов\n",
    "- $\\Sigma$ - конечно множество терминальных символов (алфавит формального языка)\n",
    "- $R$  - конечное множество правил  вида $V \\rightarrow (V \\cup \\Sigma)^{*}$\n",
    "- $S \\in V$ - начальный нетерминал\n",
    "\n",
    "### Примеры КС-грамматик\n",
    "\n",
    "**Язык правильных скобочных записей**\n",
    "\n",
    "$S \\rightarrow (S)S$\n",
    "\n",
    "$S \\rightarrow \\epsilon$\n",
    "\n",
    "Нетерминалы: $\\{S\\}$, терминалы: $\\{(, )\\}$, начальный нетерминал: $S$\n",
    "\n",
    "**Математические выражения**\n",
    "\n",
    "$S \\rightarrow S + P\\,|\\,S - P\\,|\\,P$\n",
    "\n",
    "$P \\rightarrow A\\,|\\,P \\cdot A\\,|\\,P / A$\n",
    "\n",
    "$A \\rightarrow  \\mathbb{num}|\\,(S)$\n",
    "\n",
    "Нетерминалы: $\\{S, P, A\\}$, терминалы: $\\{(, ), \\mathbb{num}\\}$, начальный нетерминал: $S$\n"
   ]
  },
  {
   "attachments": {},
   "cell_type": "markdown",
   "metadata": {},
   "source": [
    "### Разбор КС-грамматик\n",
    "\n",
    "Задача алгоритма разбора: по заданной грамматике и строке определить, принадлежит ли строка языку, порождаемому этой грамматикой, и построить дерево разбора\n",
    "\n",
    "Существуют различные типы КС-грамматик:\n",
    "- $LL$ \n",
    "- $LALR$\n",
    "- $SLR$\n",
    "- $LR$\n",
    "\n",
    "Распознаватели строятся по алгоритмам оптимальным для соответствующего типа (применяются при разборе языков программирования). Разбор входной строки обычно идет слева направо, дерево вывода может строиться сверху вниз или снизу вверх.\n",
    "\n",
    "Любая КС-грамматика может быть преобразована к эквивалентной грамматике к нормальной форме Хомского. Грамматика имеет вид нормальной формы Хомского, если ее правила имеют вид:\n",
    "\n",
    "$\\: A \\rightarrow BC$ \n",
    "\n",
    "$\\: A \\rightarrow \\alpha$ \n",
    "\n",
    "$\\: S \\rightarrow \\epsilon$\n",
    "\n",
    "**Алгоритм Кока — Янгера — Касами (CYK)** - алгоритм синтаксического анализа статьи, реализует вывод снизу-вверх, используется динамическое программирование. Сложность - $\\mathcal{O}\\left( n^3 \\cdot \\left| R \\right| \\right)$, где $n$ - размер строки, $R$ - правила грамматики в нормально форме Хомского.\n",
    "\n",
    "Идея: пусть входная строк $w$. Строится таблица $d[A][i][j]$ с данными о возможности вывода  $w[i..j]$ из правила $A$.\n",
    "\n",
    "**Алгоритм Эрли** - динамический алгоритм, строит вывод сверху вниз. Не требует преобразования к нормальной форме Хомского."
   ]
  },
  {
   "attachments": {},
   "cell_type": "markdown",
   "metadata": {},
   "source": [
    "### Иерархия Хомского\n",
    "\n",
    " Классификация формальных грамматик (и, соответственно, порождаемых ими языков), согласно которой они делятся на 4 типа, в зависимости от их  сложности. Предложена лингвистом Ноамом Хомским. \n",
    "\n",
    " #### Тип 3 — регулярные\n",
    " Сюда входят регулярные языки.  Регулярный язык (помимо регулярных выражений, конечных автоматов) можно задать с помощью КС-грамматик, где продукции выглядят так: $A \\rightarrow a$ или $A \\rightarrow aB$\n",
    "\n",
    "#### Тип 2 — контекстно-свободные\n",
    "Контекстно свободные грамматики и порождаемые ими языки\n",
    "\n",
    "#### Тип 1 — контекстно-зависимые\n",
    "Контекстно зависимые грамматики и порождаемые ими языки. Правила выводы выглядят так $\\alpha A \\beta \\rightarrow \\alpha \\gamma \\beta$\n",
    "\n",
    "#### Тип 0 — неограниченные\n",
    "Нет никаких ограничений"
   ]
  },
  {
   "attachments": {},
   "cell_type": "markdown",
   "metadata": {},
   "source": [
    "## Библиотека [LARK](https://github.com/lark-parser/)\n",
    "\n",
    "Библиотека синтаксического разбора для `Python`. Реализует алгоритм Эрли и $LALR(1)$  "
   ]
  },
  {
   "cell_type": "code",
   "execution_count": 1,
   "metadata": {},
   "outputs": [
    {
     "data": {
      "text/plain": [
       "138"
      ]
     },
     "execution_count": 1,
     "metadata": {},
     "output_type": "execute_result"
    }
   ],
   "source": [
    "from lark import Lark, Tree\n",
    "\n",
    "\n",
    "calc_grammar = \"\"\"\n",
    "    ?start: sum\n",
    "\n",
    "    ?sum: product\n",
    "        | sum \"+\" product   -> add\n",
    "        | sum \"-\" product   -> sub\n",
    "\n",
    "    ?product: atom\n",
    "        | product \"*\" atom  -> mul\n",
    "        | product \"/\" atom  -> div\n",
    "\n",
    "    ?atom: NUMBER           -> number\n",
    "         | \"(\" sum \")\"\n",
    "\n",
    "    %import common.CNAME -> NAME\n",
    "    %import common.NUMBER\n",
    "    %import common.WS_INLINE\n",
    "\n",
    "    %ignore WS_INLINE\n",
    "\"\"\"\n",
    "\n",
    "calc_parser = Lark(calc_grammar, parser='lalr')\n",
    "tree = calc_parser.parse(\"(1 + 2) * 5 + 123\")\n",
    "\n",
    "def calc(tree: Tree) -> int:\n",
    "    match tree.data:\n",
    "        case \"mul\":\n",
    "            return calc(tree.children[0]) * calc(tree.children[1])\n",
    "        case \"sub\":\n",
    "            return calc(tree.children[0]) - calc(tree.children[1])\n",
    "        case \"add\":\n",
    "            return calc(tree.children[0]) + calc(tree.children[1])\n",
    "        case \"div\":\n",
    "            return calc(tree.children[0]) / calc(tree.children[1])\n",
    "        case \"number\":\n",
    "            return int(tree.children[0])\n",
    "\n",
    "calc(tree)\n",
    "##print(tree)"
   ]
  },
  {
   "attachments": {},
   "cell_type": "markdown",
   "metadata": {},
   "source": [
    "### [Pyparsing](https://github.com/pyparsing/pyparsing/)\n",
    "\n",
    "Ещё одна библиотека синтаксического разбора для `Python`. Грамматика описывается с помощью специального DSL (domain-specific language, предметно-ориентированный язык).\n",
    "\n",
    "Опишем грамматику, котора позволяет разобрать записи вида: \n",
    ">   <слово>: число, число, ..."
   ]
  },
  {
   "cell_type": "code",
   "execution_count": 2,
   "metadata": {},
   "outputs": [
    {
     "data": {
      "text/plain": [
       "ParseResults(['hello', '1', '22', '3'], {})"
      ]
     },
     "execution_count": 2,
     "metadata": {},
     "output_type": "execute_result"
    }
   ],
   "source": [
    "from pyparsing import Word, alphas, nums,  Literal, StringEnd, ZeroOrMore, Suppress, OneOrMore \n",
    "\n",
    "word = Word(alphas)\n",
    "num = Word(nums)\n",
    "sep = Suppress(OneOrMore(','))\n",
    "col = Suppress(':')\n",
    "\n",
    "s = word + col + num + ZeroOrMore(sep + num) + StringEnd()\n",
    "        \n",
    "s.parseString('hello: 1, 22, 3')"
   ]
  },
  {
   "attachments": {},
   "cell_type": "markdown",
   "metadata": {},
   "source": [
    "Более сложный пример, грамматика описывает правильные скобочные записи."
   ]
  },
  {
   "cell_type": "code",
   "execution_count": 3,
   "metadata": {},
   "outputs": [
    {
     "data": {
      "text/plain": [
       "ParseResults(['(', '(', ')', ')', '(', ')', '(', ')'], {})"
      ]
     },
     "execution_count": 3,
     "metadata": {},
     "output_type": "execute_result"
    }
   ],
   "source": [
    "from pyparsing import Literal, Forward, StringEnd, OneOrMore, Empty\n",
    "\n",
    "br_o = Literal('(')\n",
    "br_c = Literal(')')\n",
    "\n",
    "braces = Forward()\n",
    "braces << OneOrMore(br_o + (braces | Empty() ) + br_c)\n",
    "start = braces + StringEnd()\n",
    "        \n",
    "start.parseString('(())()()')"
   ]
  },
  {
   "attachments": {},
   "cell_type": "markdown",
   "metadata": {},
   "source": [
    "### [YARGY](https://github.com/natasha/yargy)\n",
    "\n",
    "Библиотека для извлечения структурированных данных из текста на русском языке. Аналог [Tomita Parser](https://github.com/yandex/tomita-parser/).\n",
    "\n",
    "Для разбора текста используется алгоритм Эрли и Pymorphy2 для работы с морфологией."
   ]
  },
  {
   "attachments": {},
   "cell_type": "markdown",
   "metadata": {},
   "source": [
    "Напишем простую грамматику для поиска упоминаний улиц."
   ]
  },
  {
   "cell_type": "code",
   "execution_count": 4,
   "metadata": {},
   "outputs": [
    {
     "name": "stdout",
     "output_type": "stream",
     "text": [
      "['Таврической', 'улицы']\n"
     ]
    },
    {
     "data": {
      "image/svg+xml": [
       "<?xml version=\"1.0\" encoding=\"UTF-8\" standalone=\"no\"?>\n",
       "<!DOCTYPE svg PUBLIC \"-//W3C//DTD SVG 1.1//EN\"\n",
       " \"http://www.w3.org/Graphics/SVG/1.1/DTD/svg11.dtd\">\n",
       "<!-- Generated by graphviz version 8.1.0 (20230707.0739)\n",
       " -->\n",
       "<!-- Title: G Pages: 1 -->\n",
       "<svg width=\"131pt\" height=\"55pt\"\n",
       " viewBox=\"0.00 0.00 131.38 54.50\" xmlns=\"http://www.w3.org/2000/svg\" xmlns:xlink=\"http://www.w3.org/1999/xlink\">\n",
       "<g id=\"graph0\" class=\"graph\" transform=\"scale(1 1) rotate(0) translate(4 50.5)\">\n",
       "<title>G</title>\n",
       "<polygon fill=\"white\" stroke=\"none\" points=\"-4,4 -4,-50.5 127.38,-50.5 127.38,4 -4,4\"/>\n",
       "<!-- 0 -->\n",
       "<g id=\"node1\" class=\"node\">\n",
       "<title>0</title>\n",
       "<polygon fill=\"#aec7e8\" stroke=\"none\" points=\"83.38,-46.5 54.62,-46.5 54.62,-27.25 83.38,-27.25 83.38,-46.5\"/>\n",
       "<text text-anchor=\"middle\" x=\"69\" y=\"-33\" font-family=\"sans\" font-size=\"10.00\">R0</text>\n",
       "</g>\n",
       "<!-- 1 -->\n",
       "<g id=\"node2\" class=\"node\">\n",
       "<title>1</title>\n",
       "<polygon fill=\"#eeeeee\" stroke=\"none\" points=\"76,-19.25 0,-19.25 0,0 76,0 76,-19.25\"/>\n",
       "<text text-anchor=\"middle\" x=\"38\" y=\"-5.75\" font-family=\"sans\" font-size=\"10.00\">Таврической</text>\n",
       "</g>\n",
       "<!-- 0&#45;&gt;1 -->\n",
       "<g id=\"edge1\" class=\"edge\">\n",
       "<title>0&#45;&gt;1</title>\n",
       "<path fill=\"none\" stroke=\"gray\" d=\"M57.81,-26.76C55.9,-25.2 53.89,-23.57 51.92,-21.96\"/>\n",
       "<polygon fill=\"gray\" stroke=\"gray\" points=\"52.85,-20.55 49.86,-19.47 51.53,-22.18 52.85,-20.55\"/>\n",
       "</g>\n",
       "<!-- 2 -->\n",
       "<g id=\"node3\" class=\"node\">\n",
       "<title>2</title>\n",
       "<polygon fill=\"#eeeeee\" stroke=\"none\" points=\"123.38,-19.25 76.62,-19.25 76.62,0 123.38,0 123.38,-19.25\"/>\n",
       "<text text-anchor=\"middle\" x=\"100\" y=\"-5.75\" font-family=\"sans\" font-size=\"10.00\">улицы</text>\n",
       "</g>\n",
       "<!-- 0&#45;&gt;2 -->\n",
       "<g id=\"edge2\" class=\"edge\">\n",
       "<title>0&#45;&gt;2</title>\n",
       "<path fill=\"none\" stroke=\"gray\" d=\"M80.19,-26.76C82.1,-25.2 84.11,-23.57 86.08,-21.96\"/>\n",
       "<polygon fill=\"gray\" stroke=\"gray\" points=\"86.47,-22.18 88.14,-19.47 85.15,-20.55 86.47,-22.18\"/>\n",
       "</g>\n",
       "</g>\n",
       "</svg>\n"
      ],
      "text/plain": [
       "Graph(nodes=[...], edges=[...])"
      ]
     },
     "metadata": {},
     "output_type": "display_data"
    },
    {
     "name": "stdout",
     "output_type": "stream",
     "text": [
      "['Первой', 'Большой', 'Рождественской', 'улицы']\n"
     ]
    },
    {
     "data": {
      "image/svg+xml": [
       "<?xml version=\"1.0\" encoding=\"UTF-8\" standalone=\"no\"?>\n",
       "<!DOCTYPE svg PUBLIC \"-//W3C//DTD SVG 1.1//EN\"\n",
       " \"http://www.w3.org/Graphics/SVG/1.1/DTD/svg11.dtd\">\n",
       "<!-- Generated by graphviz version 8.1.0 (20230707.0739)\n",
       " -->\n",
       "<!-- Title: G Pages: 1 -->\n",
       "<svg width=\"144pt\" height=\"109pt\"\n",
       " viewBox=\"0.00 0.00 143.62 109.00\" xmlns=\"http://www.w3.org/2000/svg\" xmlns:xlink=\"http://www.w3.org/1999/xlink\">\n",
       "<g id=\"graph0\" class=\"graph\" transform=\"scale(1 1) rotate(0) translate(4 105)\">\n",
       "<title>G</title>\n",
       "<polygon fill=\"white\" stroke=\"none\" points=\"-4,4 -4,-105 139.62,-105 139.62,4 -4,4\"/>\n",
       "<!-- 0 -->\n",
       "<g id=\"node1\" class=\"node\">\n",
       "<title>0</title>\n",
       "<polygon fill=\"#aec7e8\" stroke=\"none\" points=\"80.62,-101 51.88,-101 51.88,-81.75 80.62,-81.75 80.62,-101\"/>\n",
       "<text text-anchor=\"middle\" x=\"66.25\" y=\"-87.5\" font-family=\"sans\" font-size=\"10.00\">R0</text>\n",
       "</g>\n",
       "<!-- 1 -->\n",
       "<g id=\"node2\" class=\"node\">\n",
       "<title>1</title>\n",
       "<polygon fill=\"#eeeeee\" stroke=\"none\" points=\"50.5,-73.75 0,-73.75 0,-54.5 50.5,-54.5 50.5,-73.75\"/>\n",
       "<text text-anchor=\"middle\" x=\"25.25\" y=\"-60.25\" font-family=\"sans\" font-size=\"10.00\">Первой</text>\n",
       "</g>\n",
       "<!-- 0&#45;&gt;1 -->\n",
       "<g id=\"edge1\" class=\"edge\">\n",
       "<title>0&#45;&gt;1</title>\n",
       "<path fill=\"none\" stroke=\"gray\" d=\"M51.45,-81.26C48.74,-79.59 45.9,-77.84 43.12,-76.13\"/>\n",
       "<polygon fill=\"gray\" stroke=\"gray\" points=\"44,-74.82 40.89,-74.14 42.9,-76.61 44,-74.82\"/>\n",
       "</g>\n",
       "<!-- 2 -->\n",
       "<g id=\"node3\" class=\"node\">\n",
       "<title>2</title>\n",
       "<polygon fill=\"#aec7e8\" stroke=\"none\" points=\"80.62,-73.75 51.88,-73.75 51.88,-54.5 80.62,-54.5 80.62,-73.75\"/>\n",
       "<text text-anchor=\"middle\" x=\"66.25\" y=\"-60.25\" font-family=\"sans\" font-size=\"10.00\">R1</text>\n",
       "</g>\n",
       "<!-- 0&#45;&gt;2 -->\n",
       "<g id=\"edge2\" class=\"edge\">\n",
       "<title>0&#45;&gt;2</title>\n",
       "<path fill=\"none\" stroke=\"gray\" d=\"M66.25,-81.26C66.25,-80.07 66.25,-78.84 66.25,-77.61\"/>\n",
       "<polygon fill=\"gray\" stroke=\"gray\" points=\"67.3,-77.97 66.25,-74.97 65.2,-77.97 67.3,-77.97\"/>\n",
       "</g>\n",
       "<!-- 6 -->\n",
       "<g id=\"node7\" class=\"node\">\n",
       "<title>6</title>\n",
       "<polygon fill=\"#eeeeee\" stroke=\"none\" points=\"128.62,-73.75 81.88,-73.75 81.88,-54.5 128.62,-54.5 128.62,-73.75\"/>\n",
       "<text text-anchor=\"middle\" x=\"105.25\" y=\"-60.25\" font-family=\"sans\" font-size=\"10.00\">улицы</text>\n",
       "</g>\n",
       "<!-- 0&#45;&gt;6 -->\n",
       "<g id=\"edge3\" class=\"edge\">\n",
       "<title>0&#45;&gt;6</title>\n",
       "<path fill=\"none\" stroke=\"gray\" d=\"M80.33,-81.26C82.9,-79.59 85.61,-77.84 88.26,-76.13\"/>\n",
       "<polygon fill=\"gray\" stroke=\"gray\" points=\"88.37,-76.65 90.32,-74.14 87.23,-74.89 88.37,-76.65\"/>\n",
       "</g>\n",
       "<!-- 3 -->\n",
       "<g id=\"node4\" class=\"node\">\n",
       "<title>3</title>\n",
       "<polygon fill=\"#eeeeee\" stroke=\"none\" points=\"73.25,-46.5 15.25,-46.5 15.25,-27.25 73.25,-27.25 73.25,-46.5\"/>\n",
       "<text text-anchor=\"middle\" x=\"44.25\" y=\"-33\" font-family=\"sans\" font-size=\"10.00\">Большой</text>\n",
       "</g>\n",
       "<!-- 2&#45;&gt;3 -->\n",
       "<g id=\"edge4\" class=\"edge\">\n",
       "<title>2&#45;&gt;3</title>\n",
       "<path fill=\"none\" stroke=\"gray\" d=\"M58.31,-54.01C57.02,-52.53 55.66,-50.97 54.33,-49.44\"/>\n",
       "<polygon fill=\"gray\" stroke=\"gray\" points=\"54.72,-49.3 51.96,-47.72 53.14,-50.68 54.72,-49.3\"/>\n",
       "</g>\n",
       "<!-- 4 -->\n",
       "<g id=\"node5\" class=\"node\">\n",
       "<title>4</title>\n",
       "<polygon fill=\"#aec7e8\" stroke=\"none\" points=\"102.62,-46.5 73.88,-46.5 73.88,-27.25 102.62,-27.25 102.62,-46.5\"/>\n",
       "<text text-anchor=\"middle\" x=\"88.25\" y=\"-33\" font-family=\"sans\" font-size=\"10.00\">R1</text>\n",
       "</g>\n",
       "<!-- 2&#45;&gt;4 -->\n",
       "<g id=\"edge5\" class=\"edge\">\n",
       "<title>2&#45;&gt;4</title>\n",
       "<path fill=\"none\" stroke=\"gray\" d=\"M74.19,-54.01C75.48,-52.53 76.84,-50.97 78.17,-49.44\"/>\n",
       "<polygon fill=\"gray\" stroke=\"gray\" points=\"79.36,-50.68 80.54,-47.72 77.78,-49.3 79.36,-50.68\"/>\n",
       "</g>\n",
       "<!-- 5 -->\n",
       "<g id=\"node6\" class=\"node\">\n",
       "<title>5</title>\n",
       "<polygon fill=\"#eeeeee\" stroke=\"none\" points=\"135.62,-19.25 40.88,-19.25 40.88,0 135.62,0 135.62,-19.25\"/>\n",
       "<text text-anchor=\"middle\" x=\"88.25\" y=\"-5.75\" font-family=\"sans\" font-size=\"10.00\">Рождественской</text>\n",
       "</g>\n",
       "<!-- 4&#45;&gt;5 -->\n",
       "<g id=\"edge6\" class=\"edge\">\n",
       "<title>4&#45;&gt;5</title>\n",
       "<path fill=\"none\" stroke=\"gray\" d=\"M88.25,-26.76C88.25,-25.57 88.25,-24.34 88.25,-23.11\"/>\n",
       "<polygon fill=\"gray\" stroke=\"gray\" points=\"89.3,-23.47 88.25,-20.47 87.2,-23.47 89.3,-23.47\"/>\n",
       "</g>\n",
       "</g>\n",
       "</svg>\n"
      ],
      "text/plain": [
       "Graph(nodes=[...], edges=[...])"
      ]
     },
     "metadata": {},
     "output_type": "display_data"
    },
    {
     "name": "stdout",
     "output_type": "stream",
     "text": [
      "['Мариинский', 'проезд']\n"
     ]
    },
    {
     "data": {
      "image/svg+xml": [
       "<?xml version=\"1.0\" encoding=\"UTF-8\" standalone=\"no\"?>\n",
       "<!DOCTYPE svg PUBLIC \"-//W3C//DTD SVG 1.1//EN\"\n",
       " \"http://www.w3.org/Graphics/SVG/1.1/DTD/svg11.dtd\">\n",
       "<!-- Generated by graphviz version 8.1.0 (20230707.0739)\n",
       " -->\n",
       "<!-- Title: G Pages: 1 -->\n",
       "<svg width=\"131pt\" height=\"55pt\"\n",
       " viewBox=\"0.00 0.00 131.38 54.50\" xmlns=\"http://www.w3.org/2000/svg\" xmlns:xlink=\"http://www.w3.org/1999/xlink\">\n",
       "<g id=\"graph0\" class=\"graph\" transform=\"scale(1 1) rotate(0) translate(4 50.5)\">\n",
       "<title>G</title>\n",
       "<polygon fill=\"white\" stroke=\"none\" points=\"-4,4 -4,-50.5 127.38,-50.5 127.38,4 -4,4\"/>\n",
       "<!-- 0 -->\n",
       "<g id=\"node1\" class=\"node\">\n",
       "<title>0</title>\n",
       "<polygon fill=\"#aec7e8\" stroke=\"none\" points=\"82.62,-46.5 53.88,-46.5 53.88,-27.25 82.62,-27.25 82.62,-46.5\"/>\n",
       "<text text-anchor=\"middle\" x=\"68.25\" y=\"-33\" font-family=\"sans\" font-size=\"10.00\">R0</text>\n",
       "</g>\n",
       "<!-- 1 -->\n",
       "<g id=\"node2\" class=\"node\">\n",
       "<title>1</title>\n",
       "<polygon fill=\"#eeeeee\" stroke=\"none\" points=\"74.5,-19.25 0,-19.25 0,0 74.5,0 74.5,-19.25\"/>\n",
       "<text text-anchor=\"middle\" x=\"37.25\" y=\"-5.75\" font-family=\"sans\" font-size=\"10.00\">Мариинский</text>\n",
       "</g>\n",
       "<!-- 0&#45;&gt;1 -->\n",
       "<g id=\"edge1\" class=\"edge\">\n",
       "<title>0&#45;&gt;1</title>\n",
       "<path fill=\"none\" stroke=\"gray\" d=\"M57.06,-26.76C55.15,-25.2 53.14,-23.57 51.17,-21.96\"/>\n",
       "<polygon fill=\"gray\" stroke=\"gray\" points=\"52.1,-20.55 49.11,-19.47 50.78,-22.18 52.1,-20.55\"/>\n",
       "</g>\n",
       "<!-- 2 -->\n",
       "<g id=\"node3\" class=\"node\">\n",
       "<title>2</title>\n",
       "<polygon fill=\"#eeeeee\" stroke=\"none\" points=\"123.38,-19.25 75.12,-19.25 75.12,0 123.38,0 123.38,-19.25\"/>\n",
       "<text text-anchor=\"middle\" x=\"99.25\" y=\"-5.75\" font-family=\"sans\" font-size=\"10.00\">проезд</text>\n",
       "</g>\n",
       "<!-- 0&#45;&gt;2 -->\n",
       "<g id=\"edge2\" class=\"edge\">\n",
       "<title>0&#45;&gt;2</title>\n",
       "<path fill=\"none\" stroke=\"gray\" d=\"M79.44,-26.76C81.35,-25.2 83.36,-23.57 85.33,-21.96\"/>\n",
       "<polygon fill=\"gray\" stroke=\"gray\" points=\"85.72,-22.18 87.39,-19.47 84.4,-20.55 85.72,-22.18\"/>\n",
       "</g>\n",
       "</g>\n",
       "</svg>\n"
      ],
      "text/plain": [
       "Graph(nodes=[...], edges=[...])"
      ]
     },
     "metadata": {},
     "output_type": "display_data"
    }
   ],
   "source": [
    "from yargy import Parser, rule, and_, or_\n",
    "from yargy.predicates import gram, is_capitalized, dictionary\n",
    "\n",
    "\n",
    "ST = rule(\n",
    "    and_(\n",
    "        gram('ADJF'),  \n",
    "        is_capitalized()\n",
    "    ),\n",
    "    gram('ADJF').optional().repeatable(),\n",
    "    dictionary({\n",
    "        \"улица\",\n",
    "        \"переулок\",\n",
    "        \"проезд\"\n",
    "    })\n",
    ")\n",
    "\n",
    "\n",
    "text = \"Я шел по городу от Таврической улицы и в итоге дошел до Первой Большой Рождественской улицы. Мариинский проезд остался позади.\"  \n",
    "parser = Parser(ST)\n",
    "for match in parser.findall(text):\n",
    "    print([_.value for _ in match.tokens])\n",
    "    display(match.tree.as_dot)"
   ]
  },
  {
   "attachments": {},
   "cell_type": "markdown",
   "metadata": {},
   "source": [
    "Более сложные грамматики для определения адресов и других именованных сущностей есть в библиотеке [Natasha](https://github.com/natasha/natasha/blob/master/natasha/grammars/addr.py)."
   ]
  },
  {
   "attachments": {},
   "cell_type": "markdown",
   "metadata": {},
   "source": [
    "В результате работы парсера мы получаем дерево разбора. Иногда удобнее сразу интерпретировать узлы дерева в качестве объектов - фактов. Например, мы хотим извлечь данные о занимаемой должности и имени. "
   ]
  },
  {
   "cell_type": "code",
   "execution_count": 5,
   "metadata": {},
   "outputs": [
    {
     "name": "stdout",
     "output_type": "stream",
     "text": [
      "Person(position='руководитель', name=Name(first='антон', last='иванов'))\n"
     ]
    }
   ],
   "source": [
    "from yargy import Parser\n",
    "from yargy.predicates import gram\n",
    "from yargy.pipelines import morph_pipeline\n",
    "from yargy.interpretation import fact\n",
    "from yargy.relations import gnc_relation\n",
    "\n",
    "Person = fact(\n",
    "    \"Person\",\n",
    "    [\"position\", \"name\"]\n",
    ")\n",
    "Name = fact(\n",
    "    \"Name\",\n",
    "    [\"first\", \"last\"]\n",
    ")\n",
    "\n",
    "gnc = gnc_relation()\n",
    "\n",
    "POSITION = morph_pipeline([\n",
    "    \"директор\",\n",
    "    \"руководитель\"\n",
    "])\n",
    "\n",
    "ORG = morph_pipeline([\n",
    "    \"фирма\",\n",
    "    \"предприятие\"\n",
    "])\n",
    "\n",
    "NAME = rule(\n",
    "    gram(\"Name\").interpretation(\n",
    "        Name.first.inflected()\n",
    "    ),\n",
    "    gram(\"Surn\").interpretation(\n",
    "        Name.last.inflected()\n",
    "    )\n",
    ").interpretation(\n",
    "    Name\n",
    ")\n",
    "\n",
    "PERSON = rule(\n",
    "    POSITION.interpretation(\n",
    "        Person.position.inflected()\n",
    "    ),\n",
    "    ORG,\n",
    "    NAME.interpretation(\n",
    "        Person.name\n",
    "    )\n",
    ").interpretation(\n",
    "    Person\n",
    ")\n",
    "\n",
    "\n",
    "parser = Parser(PERSON)\n",
    "text = \"Руководителя предприятия Антона Иванова поздравил коллектив с праздником.\"\n",
    "for match in parser.findall(text):\n",
    "    print(match.fact)"
   ]
  },
  {
   "attachments": {},
   "cell_type": "markdown",
   "metadata": {},
   "source": [
    "Иногда в правилах нужно иметь согласование по роду, числу или падежу:"
   ]
  },
  {
   "cell_type": "code",
   "execution_count": 6,
   "metadata": {},
   "outputs": [
    {
     "name": "stdout",
     "output_type": "stream",
     "text": [
      "['Петру', 'Марков']\n",
      "['Петр', 'Марков']\n"
     ]
    }
   ],
   "source": [
    "from yargy.relations import gnc_relation\n",
    "\n",
    "NAME = rule(\n",
    "    gram(\"Name\"),\n",
    "    gram(\"Surn\")\n",
    ")\n",
    "\n",
    "parser = Parser(NAME)\n",
    "for match in parser.findall(\"Петру Марков, Петр Марков\"):\n",
    "    print([_.value for _ in match.tokens])"
   ]
  },
  {
   "attachments": {},
   "cell_type": "markdown",
   "metadata": {},
   "source": [
    "в этом случае можно использовать `gnc_relation()`"
   ]
  },
  {
   "cell_type": "code",
   "execution_count": 7,
   "metadata": {},
   "outputs": [
    {
     "name": "stdout",
     "output_type": "stream",
     "text": [
      "['Петру', 'Маркову']\n",
      "['Петр', 'Марков']\n"
     ]
    }
   ],
   "source": [
    "gnc = gnc_relation()\n",
    "\n",
    "NAME = rule(\n",
    "    gram(\"Name\").match(gnc),\n",
    "    gram(\"Surn\").match(gnc)\n",
    ")\n",
    "\n",
    "\n",
    "parser = Parser(NAME)\n",
    "for match in parser.findall(\"Петру Маркову, Петр Марков\"):\n",
    "    print([_.value for _ in match.tokens])"
   ]
  },
  {
   "attachments": {},
   "cell_type": "markdown",
   "metadata": {},
   "source": [
    "Реализуем простую грамматику, для извлечения данных вида: человек $\\rightarrow$ окончил такой-то университет"
   ]
  },
  {
   "cell_type": "code",
   "execution_count": 8,
   "metadata": {},
   "outputs": [
    {
     "name": "stdout",
     "output_type": "stream",
     "text": [
      "Entry(person=Person(first='владимир', last='иванов'), edu_org='СПБГУ')\n"
     ]
    }
   ],
   "source": [
    "Person = fact(\n",
    "    \"Person\",\n",
    "    [\"first\", \"last\"]\n",
    ")\n",
    "\n",
    "EduOrg = fact(\n",
    "    \"EduOrg\",\n",
    "    [\"name\"]\n",
    ")\n",
    "\n",
    "Entry = fact(\n",
    "    \"Entry\",\n",
    "    [\"person\", \"edu_org\"]\n",
    ")\n",
    "\n",
    "gnc = gnc_relation()\n",
    "\n",
    "NAME = rule(\n",
    "    is_capitalized().match(gnc).interpretation(Person.first.inflected()).optional(),\n",
    "    is_capitalized().match(gnc).interpretation(Person.last.inflected()),\n",
    ").interpretation(\n",
    "    Person\n",
    ")\n",
    "\n",
    "GRAD_VERB = morph_pipeline([\n",
    "    \"окончил\",\n",
    "    \"закончил\",\n",
    "    \"выпустился из\", \n",
    "    \"окончил\"\n",
    "])\n",
    "\n",
    "EDU_ORG_TAG = morph_pipeline([\n",
    "    \"университет\", \n",
    "    \"институт\",\n",
    "    \"училище\",\n",
    "    \"техникум\",\n",
    "    \"военный институт\"\n",
    "])\n",
    "\n",
    "EDU_ORG_FULL_NAME = rule(\n",
    "    gram(\"ADJF\"),\n",
    "    gram(\"ADJF\").optional().repeatable(),\n",
    "    EDU_ORG_TAG\n",
    ")\n",
    "\n",
    "EDU_ORG_ABBR = rule(\n",
    "    gram(\"Abbr\")\n",
    ")\n",
    "\n",
    "EDU_ORG_CITY = rule(\n",
    "    EDU_ORG_TAG,\n",
    "    gram(\"NOUN\").optional().repeatable(),\n",
    "    and_(\n",
    "        is_capitalized(),\n",
    "        gram(\"NOUN\")\n",
    "    )\n",
    ")\n",
    "\n",
    "EDU_ORG = rule(\n",
    "    or_(\n",
    "        EDU_ORG_FULL_NAME,\n",
    "        EDU_ORG_ABBR,\n",
    "        EDU_ORG_CITY\n",
    "    )\n",
    ").interpretation(EduOrg.name)   \n",
    "\n",
    "S = rule(\n",
    "    NAME.interpretation(Entry.person),\n",
    "    GRAD_VERB,\n",
    "    EDU_ORG.interpretation(Entry.edu_org)\n",
    ").interpretation(Entry)\n",
    "\n",
    "text = \"Владимир Иванов окончил СПБГУ\"\n",
    "\n",
    "parser = Parser(S)\n",
    "for match in parser.findall(text):\n",
    "    print(match.fact)\n",
    "    #print([_.value for _ in match.tokens])\n",
    "    #display(match.tree.as_dot)"
   ]
  },
  {
   "attachments": {},
   "cell_type": "markdown",
   "metadata": {},
   "source": [
    "Применим на коллекции новостных документов"
   ]
  },
  {
   "cell_type": "code",
   "execution_count": 9,
   "metadata": {},
   "outputs": [],
   "source": [
    "import gzip\n",
    "\n",
    "from dataclasses import dataclass\n",
    "from typing import Iterator\n",
    "\n",
    "@dataclass\n",
    "class Text:\n",
    "    label: str\n",
    "    title: str\n",
    "    text: str\n",
    "\n",
    "\n",
    "def read_texts(fn: str) -> Iterator[Text]:\n",
    "    with gzip.open(fn, \"rt\", encoding=\"utf-8\") as f:\n",
    "        for line in f:\n",
    "            yield Text(*line.strip().split(\"\\t\"))\n",
    "\n",
    "texts = list(read_texts(\"data/news.txt.gz\"))"
   ]
  },
  {
   "cell_type": "code",
   "execution_count": 11,
   "metadata": {},
   "outputs": [
    {
     "name": "stdout",
     "output_type": "stream",
     "text": [
      "Entry(person=Person(first='дмитрий', last='циликин'), edu_org='Ленинградский государственный институт')\n",
      "Entry(person=Person(first=None, last='янина'), edu_org='Высшее театральное училище')\n",
      "Entry(person=Person(first=None, last='самойлов'), edu_org='театральное училище')\n",
      "Entry(person=Person(first=None, last='людомирский'), edu_org='МГТУ')\n",
      "Entry(person=Person(first=None, last='шевченко'), edu_org='Луганское художественное училище')\n"
     ]
    }
   ],
   "source": [
    "from tqdm import tqdm \n",
    "\n",
    "for text in tqdm(texts, disable=True):\n",
    "    try:\n",
    "        for match in parser.findall(text.text):\n",
    "         print(match.fact)\n",
    "    except:\n",
    "       # empty\n",
    "       pass\n",
    "\n"
   ]
  }
 ],
 "metadata": {
  "kernelspec": {
   "display_name": "venv_nlp",
   "language": "python",
   "name": "python3"
  },
  "language_info": {
   "codemirror_mode": {
    "name": "ipython",
    "version": 3
   },
   "file_extension": ".py",
   "mimetype": "text/x-python",
   "name": "python",
   "nbconvert_exporter": "python",
   "pygments_lexer": "ipython3",
   "version": "3.11.4"
  },
  "orig_nbformat": 4
 },
 "nbformat": 4,
 "nbformat_minor": 2
}
