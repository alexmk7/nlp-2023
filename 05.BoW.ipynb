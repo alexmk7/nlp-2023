{
 "cells": [
  {
   "attachments": {},
   "cell_type": "markdown",
   "metadata": {},
   "source": [
    "# Модель \"мешок слов\"\n",
    "\n",
    "\n",
    "Пусть есть коллекция документов $D$. Будем рассматривать модель *bag-of-words* (мешок слов), то есть каждый документ состоит из какого-то набора слов (терма) без учета их позиций внутри документа. \n",
    "\n",
    "Рассмотрим коллекцию документов:"
   ]
  },
  {
   "cell_type": "code",
   "execution_count": 1,
   "metadata": {
    "collapsed": true,
    "jupyter": {
     "outputs_hidden": true
    }
   },
   "outputs": [],
   "source": [
    "docs = ['человек лев орел черепаха человек', \n",
    "        'лев вол орел',\n",
    "        'лев черепаха лев кошка',\n",
    "        'жучка кошка мышка',\n",
    "        'лев орел грифон']"
   ]
  },
  {
   "attachments": {},
   "cell_type": "markdown",
   "metadata": {},
   "source": [
    "Посчитаем сколько каждое слово встретилось во всей коллекции и сколько каждом документе:"
   ]
  },
  {
   "cell_type": "code",
   "execution_count": 2,
   "metadata": {},
   "outputs": [
    {
     "data": {
      "text/html": [
       "<div>\n",
       "<style scoped>\n",
       "    .dataframe tbody tr th:only-of-type {\n",
       "        vertical-align: middle;\n",
       "    }\n",
       "\n",
       "    .dataframe tbody tr th {\n",
       "        vertical-align: top;\n",
       "    }\n",
       "\n",
       "    .dataframe thead th {\n",
       "        text-align: right;\n",
       "    }\n",
       "</style>\n",
       "<table border=\"1\" class=\"dataframe\">\n",
       "  <thead>\n",
       "    <tr style=\"text-align: right;\">\n",
       "      <th></th>\n",
       "      <th>term</th>\n",
       "      <th>df</th>\n",
       "    </tr>\n",
       "  </thead>\n",
       "  <tbody>\n",
       "    <tr>\n",
       "      <th>0</th>\n",
       "      <td>орел</td>\n",
       "      <td>3</td>\n",
       "    </tr>\n",
       "    <tr>\n",
       "      <th>1</th>\n",
       "      <td>лев</td>\n",
       "      <td>4</td>\n",
       "    </tr>\n",
       "    <tr>\n",
       "      <th>2</th>\n",
       "      <td>человек</td>\n",
       "      <td>1</td>\n",
       "    </tr>\n",
       "    <tr>\n",
       "      <th>3</th>\n",
       "      <td>черепаха</td>\n",
       "      <td>2</td>\n",
       "    </tr>\n",
       "    <tr>\n",
       "      <th>4</th>\n",
       "      <td>вол</td>\n",
       "      <td>1</td>\n",
       "    </tr>\n",
       "    <tr>\n",
       "      <th>5</th>\n",
       "      <td>кошка</td>\n",
       "      <td>2</td>\n",
       "    </tr>\n",
       "    <tr>\n",
       "      <th>6</th>\n",
       "      <td>жучка</td>\n",
       "      <td>1</td>\n",
       "    </tr>\n",
       "    <tr>\n",
       "      <th>7</th>\n",
       "      <td>мышка</td>\n",
       "      <td>1</td>\n",
       "    </tr>\n",
       "    <tr>\n",
       "      <th>8</th>\n",
       "      <td>грифон</td>\n",
       "      <td>1</td>\n",
       "    </tr>\n",
       "  </tbody>\n",
       "</table>\n",
       "</div>"
      ],
      "text/plain": [
       "       term  df\n",
       "0      орел   3\n",
       "1       лев   4\n",
       "2   человек   1\n",
       "3  черепаха   2\n",
       "4       вол   1\n",
       "5     кошка   2\n",
       "6     жучка   1\n",
       "7     мышка   1\n",
       "8    грифон   1"
      ]
     },
     "execution_count": 2,
     "metadata": {},
     "output_type": "execute_result"
    }
   ],
   "source": [
    "import re\n",
    "import numpy as np\n",
    "import pandas as pd\n",
    "\n",
    "\n",
    "from collections import defaultdict, Counter \n",
    "\n",
    "def parse_doc(doc):\n",
    "    return re.split(r'\\s+', doc, re.U)\n",
    "\n",
    "# подсчет df по коллекции\n",
    "def calc_df_dict(docs):\n",
    "    c = Counter() \n",
    "    for doc_id, doc in enumerate(docs):\n",
    "        c.update(set(parse_doc(doc)))\n",
    "    return c \n",
    "    \n",
    "# подсчет tf для документа\n",
    "def calc_tf_dict(doc):\n",
    "    c = Counter() \n",
    "    for word in parse_doc(doc):\n",
    "        c[word] += 1\n",
    "    return c \n",
    "    \n",
    "dfs = calc_df_dict(docs)\n",
    "pd.DataFrame(data=list(dfs.items()), columns=['term', 'df'])"
   ]
  },
  {
   "attachments": {},
   "cell_type": "markdown",
   "metadata": {},
   "source": [
    "Каждому слову и каждому документу можно присвоить уникальный численный идентификатор, и построить так называемую tf-матрицу, состоящую из элементов $\\{tf_{t,d}\\}$ - вес слова $t$ в документе $d$ (где $t = 1 \\dots n$ - индексы слов, $j = 1 \\dots k$ - индексы документов). Под весом может подразумеваться число вхождений, нормализированная частота, и т.п.\n",
    "\n",
    "### Система обозначений SMART\n",
    "\n",
    "$\\{tf_{t,d}\\}$ не всегда дает адекватное представление (документы могут быть сильно не равной длины, не учитывается значимость слов). Поэтому существует более сложные модели под обобщенным названием *tf-idf* (term frequency - inverted document frequency), где используется документная частота слова. Идея в том, что для каждого слова в каждом документе считается *tf*, потом *idf* и значения перемножаются. Потом для каждого документа получается вектор, с которым можно что-то сделать (нормализовать).\n",
    "\n",
    "| Частота термина                                                                                                  | Документная частота                                            | Нормировка                                              |\n",
    "|------------------------------------------------------------------------------------------------------------------|----------------------------------------------------------------|---------------------------------------------------------|\n",
    "| n $$\t\\text{tf}_{t,d}$$                                                                                             | n $$1$$                                                        | n $$1$$                                                 |\n",
    "| l $$1 + \\log{\\text{tf}_{t,d}}$$                                                                                  | t $$\\log{\\frac{N}{\\text{df}_i}}$$                              | c $$\\frac{1}{\\sqrt{\\omega_1^2 + \\ldots + \\omega_m^2}}$$ |\n",
    "| a $$0.5 + \\frac{0.5 \\text{tf}_{t,d}}{\\max_t{ \\text{tf}_{t,d}}}$$                                                 | p $$\\text{max}(0, \\log{\\frac{N - \\text{df}_i}{\\text{df}_i}})$$ |\n",
    "| b $$ 1,  \\text{if }  \\text{tf}_{t,d} > 0 \\text{ else } 0 $$                                                              |\n",
    "| L $$\\frac{1 + \\log{\\text{tf}_{t,d}}}{1 + \\log{\\text{avg}_{t \\in d}(\\text{tf}_{t,d})}}$$                          |\n"
   ]
  },
  {
   "attachments": {},
   "cell_type": "markdown",
   "metadata": {},
   "source": [
    "### Ипользование scikit-learn"
   ]
  },
  {
   "cell_type": "code",
   "execution_count": 3,
   "metadata": {},
   "outputs": [
    {
     "data": {
      "text/plain": [
       "array([[0, 0, 0, 0, 1, 0, 1, 2, 1],\n",
       "       [1, 0, 0, 0, 1, 0, 1, 0, 0],\n",
       "       [0, 0, 0, 1, 2, 0, 0, 0, 1],\n",
       "       [0, 0, 1, 1, 0, 1, 0, 0, 0],\n",
       "       [0, 1, 0, 0, 1, 0, 1, 0, 0]])"
      ]
     },
     "execution_count": 3,
     "metadata": {},
     "output_type": "execute_result"
    }
   ],
   "source": [
    "import numpy as np\n",
    "from sklearn.feature_extraction.text import TfidfVectorizer, CountVectorizer, HashingVectorizer\n",
    "\n",
    "vectorizer = CountVectorizer()\n",
    "vectorizer.fit_transform(docs).toarray()  "
   ]
  },
  {
   "cell_type": "code",
   "execution_count": 4,
   "metadata": {},
   "outputs": [
    {
     "name": "stdout",
     "output_type": "stream",
     "text": [
      "вол\n",
      "грифон\n",
      "жучка\n",
      "кошка\n",
      "лев\n",
      "мышка\n",
      "орел\n",
      "человек\n",
      "черепаха\n"
     ]
    }
   ],
   "source": [
    "print('\\n'.join(vectorizer.get_feature_names_out()))"
   ]
  },
  {
   "attachments": {},
   "cell_type": "markdown",
   "metadata": {},
   "source": [
    "## Использование в кластеризации, классификации и тематическом моделировании"
   ]
  },
  {
   "attachments": {},
   "cell_type": "markdown",
   "metadata": {},
   "source": [
    "Напишем код для чтения и обработки коллекции новостей"
   ]
  },
  {
   "cell_type": "code",
   "execution_count": 5,
   "metadata": {
    "collapsed": true,
    "jupyter": {
     "outputs_hidden": true
    }
   },
   "outputs": [],
   "source": [
    "import gzip\n",
    "\n",
    "from dataclasses import dataclass\n",
    "from typing import Iterator\n",
    "\n",
    "from nltk.corpus import stopwords\n",
    "from yargy.tokenizer import MorphTokenizer\n",
    "\n",
    "\n",
    "@dataclass\n",
    "class Text:\n",
    "    label: str\n",
    "    title: str\n",
    "    text: str\n",
    "\n",
    "\n",
    "def read_texts(fn: str) -> Iterator[Text]:\n",
    "    with gzip.open(fn, \"rt\", encoding=\"utf-8\") as f:\n",
    "        for line in f:\n",
    "            yield Text(*line.strip().split(\"\\t\"))\n",
    "\n",
    "\n",
    "tokenizer = MorphTokenizer()\n",
    "ru_stopwords = set(stopwords.words(\"russian\"))\n",
    "\n",
    "\n",
    "def normalize_text(text: str) -> str:\n",
    "    tokens = [\n",
    "        tok.normalized for tok in tokenizer(text) if tok.normalized not in ru_stopwords\n",
    "    ]\n",
    "    return \" \".join(tokens)"
   ]
  },
  {
   "attachments": {},
   "cell_type": "markdown",
   "metadata": {},
   "source": [
    "Прочитаем текст и преобразуем документы в вектора"
   ]
  },
  {
   "cell_type": "code",
   "execution_count": 6,
   "metadata": {},
   "outputs": [],
   "source": [
    "texts = list(read_texts(\"data/news.txt.gz\"))\n",
    "\n",
    "vectorizer = TfidfVectorizer(max_df=0.2, min_df=10)\n",
    "# vectorizer = HashingVectorizer()\n",
    "\n",
    "X = vectorizer.fit_transform([normalize_text(text.text) for text in texts]).toarray()"
   ]
  },
  {
   "attachments": {},
   "cell_type": "markdown",
   "metadata": {},
   "source": [
    "понизим размерность c помощью `PCA`"
   ]
  },
  {
   "cell_type": "code",
   "execution_count": 7,
   "metadata": {},
   "outputs": [],
   "source": [
    "from sklearn.decomposition import PCA\n",
    "\n",
    "pca = PCA(n_components=500)\n",
    "X = pca.fit_transform(X)"
   ]
  },
  {
   "attachments": {},
   "cell_type": "markdown",
   "metadata": {},
   "source": [
    "напишем кол для преобразования новых текстов"
   ]
  },
  {
   "cell_type": "code",
   "execution_count": 8,
   "metadata": {},
   "outputs": [
    {
     "data": {
      "text/plain": [
       "array([[-3.58265835e-02, -6.62540416e-03, -1.04680806e-02,\n",
       "        -5.41690602e-04, -1.14059274e-02, -2.40370263e-02,\n",
       "         5.48597548e-03,  1.62393436e-02, -7.78476070e-03,\n",
       "        -3.61940841e-03,  8.34901066e-03,  4.51348383e-02,\n",
       "         4.80463555e-02,  1.74930757e-02, -6.02130162e-03,\n",
       "         2.47462130e-02,  1.34572823e-03, -2.11793647e-04,\n",
       "         6.17791054e-04, -9.55725071e-03,  1.61799990e-02,\n",
       "         6.19196328e-03,  2.15180773e-02, -1.36050896e-02,\n",
       "        -6.04139021e-03, -3.87056555e-02,  1.49080920e-02,\n",
       "         5.57994597e-03, -7.54837189e-05,  1.28803812e-03,\n",
       "         6.92215555e-03, -1.62097659e-02, -7.98437529e-04,\n",
       "         1.43853901e-03, -5.05733510e-03, -1.43767224e-03,\n",
       "        -3.52559811e-02,  2.94052598e-02, -4.41110305e-04,\n",
       "         5.23548383e-03,  8.80641411e-04, -1.83856098e-02,\n",
       "        -1.72274201e-02,  4.51181651e-02,  3.57792774e-03,\n",
       "        -6.67035272e-03, -8.28719714e-03,  3.96747931e-03,\n",
       "         3.18318969e-02,  2.07871811e-02, -4.89994196e-03,\n",
       "         2.09478035e-02,  2.68088432e-03,  4.04734445e-02,\n",
       "        -1.05324342e-02, -1.37156114e-02, -1.81777997e-02,\n",
       "        -1.62922169e-02, -2.57068906e-03, -1.73811231e-04,\n",
       "         2.92081881e-03, -4.68983974e-04, -1.06197713e-02,\n",
       "         5.98522781e-03, -1.74896412e-03,  3.44504034e-02,\n",
       "        -1.15051986e-02, -1.40644482e-02, -9.14574740e-03,\n",
       "         2.93977632e-02, -8.45831602e-04,  8.93491187e-03,\n",
       "        -4.81061940e-03, -1.24124918e-02,  1.91559762e-02,\n",
       "        -1.88595545e-02, -5.84511833e-03, -9.72880041e-03,\n",
       "        -5.16639635e-03,  6.90667638e-03,  2.57079102e-03,\n",
       "        -5.88997218e-03, -1.01080090e-02, -8.89578492e-03,\n",
       "        -2.33948710e-03, -9.33441125e-03,  1.33237806e-02,\n",
       "         5.37980546e-03,  7.14126675e-03, -2.07893828e-02,\n",
       "        -5.56520780e-03, -1.45085750e-02, -1.12070457e-02,\n",
       "        -1.65844372e-02, -1.40829885e-02, -2.86132780e-03,\n",
       "        -1.02853583e-02, -2.76888276e-02, -1.83048060e-03,\n",
       "        -2.43020961e-03,  3.57643232e-02, -1.37116043e-02,\n",
       "        -2.88897207e-02,  2.99187623e-03,  3.21080739e-03,\n",
       "        -9.09879135e-03, -1.65863620e-02,  1.76629734e-02,\n",
       "        -5.81168479e-03,  1.37324629e-02, -5.43387782e-03,\n",
       "        -5.63996031e-03, -2.69427029e-02, -1.14834939e-02,\n",
       "         1.72466358e-02, -2.07490601e-03,  5.72760864e-03,\n",
       "        -1.81848986e-02, -1.03865433e-02,  7.24383765e-03,\n",
       "        -5.45307310e-03,  1.56449373e-02,  1.44017241e-02,\n",
       "        -5.53326531e-03, -1.88014295e-02, -1.67464219e-02,\n",
       "        -3.20928417e-03,  9.71081236e-03, -3.43586885e-03,\n",
       "        -4.39922306e-03,  1.60412136e-02, -2.56699578e-03,\n",
       "         2.46481003e-02, -2.27552690e-02, -4.03231745e-02,\n",
       "         2.10558636e-03,  2.68622824e-03,  1.89751102e-02,\n",
       "         1.37694243e-02, -1.26486282e-04, -2.22809208e-03,\n",
       "         1.71479948e-02,  1.81345150e-02, -7.81470381e-03,\n",
       "        -1.78735151e-02, -1.77986097e-02,  2.75453905e-02,\n",
       "         1.10118051e-02,  1.59348375e-03, -9.36608196e-03,\n",
       "         2.14680027e-02, -1.68655639e-02,  1.12160351e-02,\n",
       "        -1.66120852e-02, -8.89684472e-03,  1.55313272e-03,\n",
       "         1.76375728e-02,  4.68029083e-03, -7.47161321e-03,\n",
       "         2.34736539e-03, -5.13360106e-03, -1.63711248e-02,\n",
       "         1.49070767e-02, -2.35371220e-03, -1.24440617e-02,\n",
       "         2.96389372e-03,  1.76151154e-02,  6.34792432e-03,\n",
       "         2.56811379e-02,  2.26717051e-02, -2.15681131e-02,\n",
       "        -2.50104494e-02,  2.93527935e-03, -3.02034837e-03,\n",
       "        -1.62632016e-03,  5.32774581e-04, -1.56148861e-02,\n",
       "        -3.04667629e-02,  6.73317807e-03,  1.35855862e-03,\n",
       "        -2.16970724e-02, -2.72555463e-02, -1.20874155e-02,\n",
       "        -3.86839608e-03, -3.76061467e-03,  1.90955106e-02,\n",
       "         1.56083485e-02, -8.21268283e-03,  1.64237116e-03,\n",
       "        -4.79928384e-03, -6.27920024e-03, -9.66008752e-03,\n",
       "        -5.64447172e-03,  4.84016714e-03,  9.35075512e-03,\n",
       "        -1.65978221e-02,  1.87509195e-02, -2.16193299e-02,\n",
       "         9.23115264e-03,  1.68389722e-02,  1.00782576e-02,\n",
       "         3.26291518e-02,  7.57503399e-03, -2.12572545e-02,\n",
       "        -2.01294532e-04, -5.37623730e-03,  1.30251297e-02,\n",
       "        -4.51883309e-03,  2.10275767e-02, -9.23170244e-03,\n",
       "         1.28195806e-02,  2.66528667e-02,  2.15464538e-02,\n",
       "        -7.29542607e-04, -3.01777268e-03,  1.40434541e-02,\n",
       "        -1.42966889e-02, -1.75793985e-02, -1.01105011e-02,\n",
       "        -2.79963211e-03,  3.09479269e-03, -2.13382425e-02,\n",
       "        -8.55217508e-04, -4.67497787e-03,  8.09250538e-03,\n",
       "         2.13575820e-02, -7.79672597e-03,  1.01282680e-02,\n",
       "         2.62407427e-03,  1.54420511e-02, -2.28458694e-03,\n",
       "        -4.44023097e-03, -3.53420426e-03, -1.39360599e-02,\n",
       "        -9.87498623e-04,  3.22750715e-04, -3.15524697e-03,\n",
       "        -4.03593637e-03, -1.30005775e-02,  5.10399347e-03,\n",
       "         1.71660940e-02,  1.08016970e-02,  5.03767742e-03,\n",
       "        -1.41824398e-02,  9.11521282e-04, -1.52685690e-02,\n",
       "         1.10982649e-02, -1.26061876e-03, -5.75795308e-04,\n",
       "         1.39826893e-02, -1.12468136e-02,  1.38713246e-02,\n",
       "        -1.25163788e-02, -1.58475576e-02, -2.27426381e-02,\n",
       "         3.68742862e-02, -2.63568337e-03,  8.03333311e-04,\n",
       "         1.70732869e-03,  1.47666500e-02, -7.71714789e-03,\n",
       "         1.24763329e-02, -8.06768629e-04, -2.42812158e-03,\n",
       "         1.55104622e-02, -8.61397171e-03, -1.36359924e-02,\n",
       "         4.27202963e-08, -7.36006887e-03, -7.45480644e-03,\n",
       "        -2.67716997e-03, -5.80910665e-03,  1.66788505e-02,\n",
       "        -5.42480194e-03, -1.42343051e-02,  3.56223454e-03,\n",
       "         1.38712350e-02,  1.01101767e-02, -8.95232820e-03,\n",
       "        -1.11574885e-02,  9.50156729e-03, -1.59800646e-02,\n",
       "        -2.20669652e-04,  2.51313260e-04, -1.06812869e-02,\n",
       "        -1.32504456e-02,  5.67475536e-03,  1.30878545e-02,\n",
       "        -1.54450140e-02,  3.05231896e-03,  2.73802129e-02,\n",
       "         9.33732185e-03, -8.25713739e-03,  6.28219634e-03,\n",
       "         8.20312934e-03,  2.22147690e-03, -1.58286188e-02,\n",
       "         8.51130271e-03, -9.94682958e-05,  4.10958023e-04,\n",
       "        -5.12656347e-03,  2.65540898e-03, -4.18445241e-03,\n",
       "        -1.33873982e-03,  5.91196580e-03, -3.07261606e-02,\n",
       "         7.54635705e-03,  1.70654243e-02,  3.45333864e-03,\n",
       "         1.19017435e-02, -1.50204496e-02, -1.41803478e-03,\n",
       "        -1.76458473e-02, -6.69804207e-03, -8.34999302e-03,\n",
       "         5.27101346e-03, -2.07008529e-02, -1.55906983e-02,\n",
       "         1.93230468e-03, -1.03539346e-03, -5.79533005e-03,\n",
       "         1.71774485e-03, -5.18922204e-04,  4.15834440e-03,\n",
       "         5.36706058e-03, -3.34568062e-03, -1.22131240e-02,\n",
       "        -1.00933844e-02,  2.94691117e-03,  1.24728331e-02,\n",
       "         1.81769895e-02,  6.62609823e-03,  1.54235738e-02,\n",
       "         4.22504149e-03,  9.50218227e-03,  8.43265652e-03,\n",
       "        -1.34008211e-02, -8.95694197e-03, -1.52157495e-03,\n",
       "         1.04626709e-02,  4.47551096e-03, -4.46893422e-03,\n",
       "         1.13207723e-02, -1.10165075e-02,  1.19685370e-02,\n",
       "         2.20895036e-04, -8.19367538e-03,  1.34233842e-03,\n",
       "        -3.50999085e-03,  1.72714345e-02, -5.67686231e-03,\n",
       "         1.03298574e-02, -6.65151915e-03, -3.09473543e-03,\n",
       "         9.34438389e-03,  6.25350761e-03,  6.13121066e-03,\n",
       "        -2.84839979e-04,  6.32758184e-03,  1.35761175e-02,\n",
       "        -2.37646322e-03,  2.08580833e-02, -3.19573469e-03,\n",
       "        -7.63291418e-03, -1.58517092e-02,  3.51556422e-03,\n",
       "        -6.99599253e-03, -1.16132504e-02,  4.06464231e-03,\n",
       "        -3.35320433e-03, -2.32513893e-03,  2.02180933e-02,\n",
       "        -1.32188701e-02, -4.51928919e-03, -1.64767137e-02,\n",
       "        -7.16272654e-03, -6.84640794e-03, -1.39711053e-03,\n",
       "        -2.21684352e-03,  4.06333955e-03,  2.78085963e-03,\n",
       "        -4.74221961e-03,  3.61808596e-03,  2.08032932e-02,\n",
       "         6.03974229e-03,  2.86331377e-03, -1.54359030e-02,\n",
       "        -9.69861996e-04, -3.41553040e-03,  8.21815317e-03,\n",
       "        -1.21314444e-02, -4.31126123e-03,  1.25146729e-03,\n",
       "         1.28174085e-02,  1.95568536e-03, -4.43664206e-04,\n",
       "         1.22421570e-02, -7.83681239e-03,  6.75552745e-03,\n",
       "         1.52399162e-02, -1.37270146e-02, -1.18651082e-02,\n",
       "         6.92574372e-03, -1.17672520e-02,  1.24702223e-03,\n",
       "        -4.66093042e-03,  3.17791540e-03,  2.21560767e-03,\n",
       "        -6.72750555e-03, -6.50939120e-03,  4.41985854e-03,\n",
       "         1.65239117e-02, -4.26273277e-03,  1.85872188e-03,\n",
       "        -1.74264656e-03, -3.12115981e-03,  1.27786914e-03,\n",
       "        -4.08418421e-03,  2.33725512e-03, -4.74485794e-03,\n",
       "         1.31601124e-02,  4.42665572e-03,  1.26116906e-02,\n",
       "         2.29917974e-03, -2.84618663e-03, -1.88708057e-02,\n",
       "        -2.08675731e-03,  4.69476355e-03,  6.14129859e-03,\n",
       "        -5.41119762e-03,  2.42730130e-02, -1.58449660e-02,\n",
       "        -8.90495787e-03,  5.21740539e-03, -2.35309596e-03,\n",
       "         1.64230935e-02, -3.42953719e-03, -9.16369797e-03,\n",
       "        -9.25526324e-03, -1.58093205e-03,  7.03364468e-03,\n",
       "        -1.24145086e-02,  9.33208977e-03, -2.14562953e-04,\n",
       "         1.32642633e-02, -9.60824407e-03,  1.71824545e-02,\n",
       "         4.65086381e-03,  4.29707796e-03,  1.51174133e-03,\n",
       "         7.93937380e-04, -1.33914288e-02,  3.71431943e-03,\n",
       "         4.33731200e-04,  5.50740907e-03, -8.29034319e-03,\n",
       "         8.37552809e-03,  1.78866836e-03,  1.66196824e-03,\n",
       "         4.83663956e-03,  1.97315715e-02,  1.36127007e-03,\n",
       "        -8.20022695e-03,  1.90507835e-03,  8.51976819e-04,\n",
       "        -5.02216293e-03,  8.61852480e-03, -3.06244483e-03,\n",
       "        -6.61111391e-03, -5.14375635e-03,  1.28662352e-03,\n",
       "        -1.37426311e-03,  5.12695914e-03,  1.24692323e-02,\n",
       "        -2.64334914e-03,  4.73289075e-03, -8.39371719e-03,\n",
       "        -6.60847031e-03, -3.64526580e-03,  5.11046307e-03,\n",
       "         2.71748859e-03, -5.07345123e-03, -1.32067975e-02,\n",
       "        -5.67338149e-03,  7.49299404e-03, -7.35002814e-03,\n",
       "        -7.36526077e-03, -1.37401045e-02, -2.27606371e-02,\n",
       "         3.55975710e-03, -4.23458754e-03, -1.11091285e-02,\n",
       "        -8.96302323e-03,  4.24416742e-03, -3.70970608e-03,\n",
       "         5.65897447e-03,  1.60205285e-03, -1.89977717e-03,\n",
       "        -1.30568474e-02, -5.25797082e-03]])"
      ]
     },
     "execution_count": 8,
     "metadata": {},
     "output_type": "execute_result"
    }
   ],
   "source": [
    "def transform_text(text: str) -> np.ndarray:\n",
    "    normalized_text = normalize_text(text)\n",
    "    vect = vectorizer.transform([normalized_text]).toarray()\n",
    "    return pca.transform(vect)\n",
    "\n",
    "transform_text(\"привет миру\")"
   ]
  },
  {
   "attachments": {},
   "cell_type": "markdown",
   "metadata": {},
   "source": [
    "Кластеризация"
   ]
  },
  {
   "cell_type": "code",
   "execution_count": 9,
   "metadata": {},
   "outputs": [
    {
     "data": {
      "text/html": [
       "<style>#sk-container-id-1 {color: black;}#sk-container-id-1 pre{padding: 0;}#sk-container-id-1 div.sk-toggleable {background-color: white;}#sk-container-id-1 label.sk-toggleable__label {cursor: pointer;display: block;width: 100%;margin-bottom: 0;padding: 0.3em;box-sizing: border-box;text-align: center;}#sk-container-id-1 label.sk-toggleable__label-arrow:before {content: \"▸\";float: left;margin-right: 0.25em;color: #696969;}#sk-container-id-1 label.sk-toggleable__label-arrow:hover:before {color: black;}#sk-container-id-1 div.sk-estimator:hover label.sk-toggleable__label-arrow:before {color: black;}#sk-container-id-1 div.sk-toggleable__content {max-height: 0;max-width: 0;overflow: hidden;text-align: left;background-color: #f0f8ff;}#sk-container-id-1 div.sk-toggleable__content pre {margin: 0.2em;color: black;border-radius: 0.25em;background-color: #f0f8ff;}#sk-container-id-1 input.sk-toggleable__control:checked~div.sk-toggleable__content {max-height: 200px;max-width: 100%;overflow: auto;}#sk-container-id-1 input.sk-toggleable__control:checked~label.sk-toggleable__label-arrow:before {content: \"▾\";}#sk-container-id-1 div.sk-estimator input.sk-toggleable__control:checked~label.sk-toggleable__label {background-color: #d4ebff;}#sk-container-id-1 div.sk-label input.sk-toggleable__control:checked~label.sk-toggleable__label {background-color: #d4ebff;}#sk-container-id-1 input.sk-hidden--visually {border: 0;clip: rect(1px 1px 1px 1px);clip: rect(1px, 1px, 1px, 1px);height: 1px;margin: -1px;overflow: hidden;padding: 0;position: absolute;width: 1px;}#sk-container-id-1 div.sk-estimator {font-family: monospace;background-color: #f0f8ff;border: 1px dotted black;border-radius: 0.25em;box-sizing: border-box;margin-bottom: 0.5em;}#sk-container-id-1 div.sk-estimator:hover {background-color: #d4ebff;}#sk-container-id-1 div.sk-parallel-item::after {content: \"\";width: 100%;border-bottom: 1px solid gray;flex-grow: 1;}#sk-container-id-1 div.sk-label:hover label.sk-toggleable__label {background-color: #d4ebff;}#sk-container-id-1 div.sk-serial::before {content: \"\";position: absolute;border-left: 1px solid gray;box-sizing: border-box;top: 0;bottom: 0;left: 50%;z-index: 0;}#sk-container-id-1 div.sk-serial {display: flex;flex-direction: column;align-items: center;background-color: white;padding-right: 0.2em;padding-left: 0.2em;position: relative;}#sk-container-id-1 div.sk-item {position: relative;z-index: 1;}#sk-container-id-1 div.sk-parallel {display: flex;align-items: stretch;justify-content: center;background-color: white;position: relative;}#sk-container-id-1 div.sk-item::before, #sk-container-id-1 div.sk-parallel-item::before {content: \"\";position: absolute;border-left: 1px solid gray;box-sizing: border-box;top: 0;bottom: 0;left: 50%;z-index: -1;}#sk-container-id-1 div.sk-parallel-item {display: flex;flex-direction: column;z-index: 1;position: relative;background-color: white;}#sk-container-id-1 div.sk-parallel-item:first-child::after {align-self: flex-end;width: 50%;}#sk-container-id-1 div.sk-parallel-item:last-child::after {align-self: flex-start;width: 50%;}#sk-container-id-1 div.sk-parallel-item:only-child::after {width: 0;}#sk-container-id-1 div.sk-dashed-wrapped {border: 1px dashed gray;margin: 0 0.4em 0.5em 0.4em;box-sizing: border-box;padding-bottom: 0.4em;background-color: white;}#sk-container-id-1 div.sk-label label {font-family: monospace;font-weight: bold;display: inline-block;line-height: 1.2em;}#sk-container-id-1 div.sk-label-container {text-align: center;}#sk-container-id-1 div.sk-container {/* jupyter's `normalize.less` sets `[hidden] { display: none; }` but bootstrap.min.css set `[hidden] { display: none !important; }` so we also need the `!important` here to be able to override the default hidden behavior on the sphinx rendered scikit-learn.org. See: https://github.com/scikit-learn/scikit-learn/issues/21755 */display: inline-block !important;position: relative;}#sk-container-id-1 div.sk-text-repr-fallback {display: none;}</style><div id=\"sk-container-id-1\" class=\"sk-top-container\"><div class=\"sk-text-repr-fallback\"><pre>KMeans(n_clusters=10, n_init=&#x27;auto&#x27;)</pre><b>In a Jupyter environment, please rerun this cell to show the HTML representation or trust the notebook. <br />On GitHub, the HTML representation is unable to render, please try loading this page with nbviewer.org.</b></div><div class=\"sk-container\" hidden><div class=\"sk-item\"><div class=\"sk-estimator sk-toggleable\"><input class=\"sk-toggleable__control sk-hidden--visually\" id=\"sk-estimator-id-1\" type=\"checkbox\" checked><label for=\"sk-estimator-id-1\" class=\"sk-toggleable__label sk-toggleable__label-arrow\">KMeans</label><div class=\"sk-toggleable__content\"><pre>KMeans(n_clusters=10, n_init=&#x27;auto&#x27;)</pre></div></div></div></div></div>"
      ],
      "text/plain": [
       "KMeans(n_clusters=10, n_init='auto')"
      ]
     },
     "execution_count": 9,
     "metadata": {},
     "output_type": "execute_result"
    }
   ],
   "source": [
    "from sklearn.cluster import KMeans\n",
    "\n",
    "k_means = KMeans(n_clusters=10, n_init=\"auto\")\n",
    "k_means.fit(X)"
   ]
  },
  {
   "attachments": {},
   "cell_type": "markdown",
   "metadata": {},
   "source": [
    "Классификация"
   ]
  },
  {
   "cell_type": "code",
   "execution_count": 10,
   "metadata": {},
   "outputs": [
    {
     "data": {
      "text/html": [
       "<style>#sk-container-id-2 {color: black;}#sk-container-id-2 pre{padding: 0;}#sk-container-id-2 div.sk-toggleable {background-color: white;}#sk-container-id-2 label.sk-toggleable__label {cursor: pointer;display: block;width: 100%;margin-bottom: 0;padding: 0.3em;box-sizing: border-box;text-align: center;}#sk-container-id-2 label.sk-toggleable__label-arrow:before {content: \"▸\";float: left;margin-right: 0.25em;color: #696969;}#sk-container-id-2 label.sk-toggleable__label-arrow:hover:before {color: black;}#sk-container-id-2 div.sk-estimator:hover label.sk-toggleable__label-arrow:before {color: black;}#sk-container-id-2 div.sk-toggleable__content {max-height: 0;max-width: 0;overflow: hidden;text-align: left;background-color: #f0f8ff;}#sk-container-id-2 div.sk-toggleable__content pre {margin: 0.2em;color: black;border-radius: 0.25em;background-color: #f0f8ff;}#sk-container-id-2 input.sk-toggleable__control:checked~div.sk-toggleable__content {max-height: 200px;max-width: 100%;overflow: auto;}#sk-container-id-2 input.sk-toggleable__control:checked~label.sk-toggleable__label-arrow:before {content: \"▾\";}#sk-container-id-2 div.sk-estimator input.sk-toggleable__control:checked~label.sk-toggleable__label {background-color: #d4ebff;}#sk-container-id-2 div.sk-label input.sk-toggleable__control:checked~label.sk-toggleable__label {background-color: #d4ebff;}#sk-container-id-2 input.sk-hidden--visually {border: 0;clip: rect(1px 1px 1px 1px);clip: rect(1px, 1px, 1px, 1px);height: 1px;margin: -1px;overflow: hidden;padding: 0;position: absolute;width: 1px;}#sk-container-id-2 div.sk-estimator {font-family: monospace;background-color: #f0f8ff;border: 1px dotted black;border-radius: 0.25em;box-sizing: border-box;margin-bottom: 0.5em;}#sk-container-id-2 div.sk-estimator:hover {background-color: #d4ebff;}#sk-container-id-2 div.sk-parallel-item::after {content: \"\";width: 100%;border-bottom: 1px solid gray;flex-grow: 1;}#sk-container-id-2 div.sk-label:hover label.sk-toggleable__label {background-color: #d4ebff;}#sk-container-id-2 div.sk-serial::before {content: \"\";position: absolute;border-left: 1px solid gray;box-sizing: border-box;top: 0;bottom: 0;left: 50%;z-index: 0;}#sk-container-id-2 div.sk-serial {display: flex;flex-direction: column;align-items: center;background-color: white;padding-right: 0.2em;padding-left: 0.2em;position: relative;}#sk-container-id-2 div.sk-item {position: relative;z-index: 1;}#sk-container-id-2 div.sk-parallel {display: flex;align-items: stretch;justify-content: center;background-color: white;position: relative;}#sk-container-id-2 div.sk-item::before, #sk-container-id-2 div.sk-parallel-item::before {content: \"\";position: absolute;border-left: 1px solid gray;box-sizing: border-box;top: 0;bottom: 0;left: 50%;z-index: -1;}#sk-container-id-2 div.sk-parallel-item {display: flex;flex-direction: column;z-index: 1;position: relative;background-color: white;}#sk-container-id-2 div.sk-parallel-item:first-child::after {align-self: flex-end;width: 50%;}#sk-container-id-2 div.sk-parallel-item:last-child::after {align-self: flex-start;width: 50%;}#sk-container-id-2 div.sk-parallel-item:only-child::after {width: 0;}#sk-container-id-2 div.sk-dashed-wrapped {border: 1px dashed gray;margin: 0 0.4em 0.5em 0.4em;box-sizing: border-box;padding-bottom: 0.4em;background-color: white;}#sk-container-id-2 div.sk-label label {font-family: monospace;font-weight: bold;display: inline-block;line-height: 1.2em;}#sk-container-id-2 div.sk-label-container {text-align: center;}#sk-container-id-2 div.sk-container {/* jupyter's `normalize.less` sets `[hidden] { display: none; }` but bootstrap.min.css set `[hidden] { display: none !important; }` so we also need the `!important` here to be able to override the default hidden behavior on the sphinx rendered scikit-learn.org. See: https://github.com/scikit-learn/scikit-learn/issues/21755 */display: inline-block !important;position: relative;}#sk-container-id-2 div.sk-text-repr-fallback {display: none;}</style><div id=\"sk-container-id-2\" class=\"sk-top-container\"><div class=\"sk-text-repr-fallback\"><pre>SVC()</pre><b>In a Jupyter environment, please rerun this cell to show the HTML representation or trust the notebook. <br />On GitHub, the HTML representation is unable to render, please try loading this page with nbviewer.org.</b></div><div class=\"sk-container\" hidden><div class=\"sk-item\"><div class=\"sk-estimator sk-toggleable\"><input class=\"sk-toggleable__control sk-hidden--visually\" id=\"sk-estimator-id-2\" type=\"checkbox\" checked><label for=\"sk-estimator-id-2\" class=\"sk-toggleable__label sk-toggleable__label-arrow\">SVC</label><div class=\"sk-toggleable__content\"><pre>SVC()</pre></div></div></div></div></div>"
      ],
      "text/plain": [
       "SVC()"
      ]
     },
     "execution_count": 10,
     "metadata": {},
     "output_type": "execute_result"
    }
   ],
   "source": [
    "from sklearn.svm import SVC\n",
    "\n",
    "y = [text.label for text in texts]\n",
    "\n",
    "svc = SVC()\n",
    "svc.fit(X, y)"
   ]
  },
  {
   "cell_type": "code",
   "execution_count": 20,
   "metadata": {},
   "outputs": [
    {
     "data": {
      "text/plain": [
       "array(['sport'], dtype='<U9')"
      ]
     },
     "execution_count": 20,
     "metadata": {},
     "output_type": "execute_result"
    }
   ],
   "source": [
    "svc.predict(transform_text(\"Футбольное Динамо забило гол и выиграло\"))"
   ]
  },
  {
   "cell_type": "markdown",
   "metadata": {},
   "source": [
    "Тематическое моделирование"
   ]
  },
  {
   "cell_type": "code",
   "execution_count": 22,
   "metadata": {},
   "outputs": [],
   "source": [
    "import re\n",
    "\n",
    "from gensim.corpora.dictionary import Dictionary\n",
    "from gensim.models import LdaModel\n",
    "\n",
    "normalized_tokens = [\n",
    "    re.findall(r\"\\b\\w+\\b\", normalize_text(text.text))\n",
    "    for text in texts\n",
    "]\n",
    "dictionary = Dictionary(normalized_tokens)\n",
    "\n",
    "corpus = [dictionary.doc2bow(text) for text in normalized_tokens]\n",
    "\n",
    "lda = LdaModel(corpus, num_topics=10)"
   ]
  },
  {
   "cell_type": "code",
   "execution_count": 32,
   "metadata": {},
   "outputs": [
    {
     "data": {
      "text/plain": [
       "[('который', 0.012838349),\n",
       " ('год', 0.010673094),\n",
       " ('учёный', 0.00916909),\n",
       " ('это', 0.006336624),\n",
       " ('свой', 0.0062552043),\n",
       " ('человек', 0.005108341),\n",
       " ('мочь', 0.0043260455),\n",
       " ('также', 0.0041958876),\n",
       " ('исследование', 0.004040174),\n",
       " ('новый', 0.0037101565),\n",
       " ('время', 0.0035189835),\n",
       " ('журнал', 0.0034221103),\n",
       " ('стать', 0.0031218128),\n",
       " ('модель', 0.0029651897),\n",
       " ('однако', 0.002866491),\n",
       " ('сообщать', 0.002820199),\n",
       " ('опубликовать', 0.0026814279),\n",
       " ('работа', 0.0026671356),\n",
       " ('являться', 0.0025679762),\n",
       " ('весь', 0.0025233657)]"
      ]
     },
     "execution_count": 32,
     "metadata": {},
     "output_type": "execute_result"
    }
   ],
   "source": [
    "id2token = {v : k for (k, v) in dictionary.token2id.items()}\n",
    "[(id2token[token_id], p) for (token_id, p) in lda.get_topic_terms(9, 20)]"
   ]
  },
  {
   "cell_type": "code",
   "execution_count": null,
   "metadata": {},
   "outputs": [],
   "source": []
  }
 ],
 "metadata": {
  "kernelspec": {
   "display_name": "Python 3.10.6 64-bit",
   "language": "python",
   "name": "python3"
  },
  "language_info": {
   "codemirror_mode": {
    "name": "ipython",
    "version": 3
   },
   "file_extension": ".py",
   "mimetype": "text/x-python",
   "name": "python",
   "nbconvert_exporter": "python",
   "pygments_lexer": "ipython3",
   "version": "3.11.0rc1"
  },
  "vscode": {
   "interpreter": {
    "hash": "916dbcbb3f70747c44a77c7bcd40155683ae19c65e1c03b4aa3499c5328201f1"
   }
  }
 },
 "nbformat": 4,
 "nbformat_minor": 4
}
